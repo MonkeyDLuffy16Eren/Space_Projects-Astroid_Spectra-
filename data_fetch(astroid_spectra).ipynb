{
 "cells": [
  {
   "cell_type": "code",
   "execution_count": 7,
   "id": "a1bea364-be28-48f0-8fc0-dfcef607d139",
   "metadata": {},
   "outputs": [],
   "source": [
    "import hashlib\n",
    "import os\n",
    "import pathlib\n",
    "import tarfile\n",
    "import urllib.request"
   ]
  },
  {
   "cell_type": "code",
   "execution_count": 8,
   "id": "840228c0-52d3-4f84-a7b3-65845f1349f3",
   "metadata": {},
   "outputs": [
    {
     "name": "stdout",
     "output_type": "stream",
     "text": [
      "path found: smass2data/astroid_taxanomy\n"
     ]
    }
   ],
   "source": [
    "core_path = \"smass2data/astroid_taxanomy\"\n",
    "if not os.path.exists(core_path):\n",
    "    print(\"path not found.please check your dictionary...\")\n",
    "else:\n",
    "    print(\"path found:\",core_path)"
   ]
  },
  {
   "cell_type": "code",
   "execution_count": 9,
   "id": "13417bfc-5ee4-4847-ba8a-5b53a603abf5",
   "metadata": {},
   "outputs": [],
   "source": [
    "def comp_sha256(file_name):\n",
    "    \"\"\"\n",
    "    Compute the SHA256 hash of a file.\n",
    "    Parameters\n",
    "    ----------\n",
    "    file_name : str\n",
    "        Absolute or relative pathname of the file that shall be parsed.\n",
    "    Returns\n",
    "    -------\n",
    "    sha256_res : str\n",
    "        Resulting SHA256 hash.\n",
    "    \"\"\"\n",
    "    \n",
    "    hash_sha256 = hashlib.sha256()\n",
    "\n",
    "    \n",
    "    with pathlib.Path(file_name).open(mode=\"rb\") as f_temp:\n",
    "        for _seq in iter(lambda: f_temp.read(65536), b\"\"):\n",
    "            hash_sha256.update(_seq)\n",
    "\n",
    "    sha256_res = hash_sha256.hexdigest()\n",
    "\n",
    "    return sha256_res\n"
   ]
  },
  {
   "cell_type": "code",
   "execution_count": 10,
   "id": "b2b1ecf0-a568-4467-b829-877ca0c0b9d3",
   "metadata": {},
   "outputs": [],
   "source": [
    "pathlib.Path(os.path.join(core_path,\"data/lvl0/\" )).mkdir(parents=True,exist_ok=True)"
   ]
  },
  {
   "cell_type": "code",
   "execution_count": 11,
   "id": "d5d12c82-4b91-4a6a-808f-bbeafaee3454",
   "metadata": {},
   "outputs": [],
   "source": [
    "files_to_dl = \\\n",
    "    {'file1': {'url': 'http://smass.mit.edu/data/smass/Bus.Taxonomy.txt',\n",
    "               'sha256': '0ce970a6972dd7c49d512848b9736d00b621c9d6395a035bd1b4f3780d4b56c6'},\n",
    "     'file2': {'url': 'http://smass.mit.edu/data/smass/smass2data.tar.gz',\n",
    "               'sha256': 'dacf575eb1403c08bdfbffcd5dbfe12503a588e09b04ed19cc4572584a57fa97'}}"
   ]
  },
  {
   "cell_type": "code",
   "execution_count": 12,
   "id": "908eb2df-44aa-4b09-9dcd-ba79878178e8",
   "metadata": {},
   "outputs": [],
   "source": [
    "for dl_key in files_to_dl:\n",
    "\n",
    "    split = urllib.parse.urlsplit(files_to_dl[dl_key][\"url\"])\n",
    "    filename = pathlib.Path(os.path.join(core_path, \"data/lvl0/\", split.path.split(\"/\")[-1]))\n",
    "\n",
    "    if not filename.is_file():\n",
    "\n",
    "        print(f\"Downloading now: {files_to_dl[dl_key]['url']}\")\n",
    "\n",
    "        downl_file_path, _ = urllib.request.urlretrieve(url=files_to_dl[dl_key][\"url\"],\n",
    "                                                        filename=filename)\n",
    "        tax_hash = comp_sha256(downl_file_path)\n",
    "        assert tax_hash == files_to_dl[dl_key][\"sha256\"]"
   ]
  },
  {
   "cell_type": "code",
   "execution_count": 13,
   "id": "42ee771e-a008-4183-ad13-945d0cb4d929",
   "metadata": {},
   "outputs": [
    {
     "name": "stderr",
     "output_type": "stream",
     "text": [
      "C:\\Users\\This PC\\AppData\\Local\\Temp\\ipykernel_12972\\4248087999.py:2: DeprecationWarning: Python 3.14 will, by default, filter extracted tar archives and reject files or modify their metadata. Use the filter argument to control this behavior.\n",
      "  tar.extractall(os.path.join(core_path, \"data/lvl0/\"))\n"
     ]
    }
   ],
   "source": [
    "tar = tarfile.open(os.path.join(core_path, \"data/lvl0/\", \"smass2data.tar.gz\"), \"r:gz\")\n",
    "tar.extractall(os.path.join(core_path, \"data/lvl0/\"))\n",
    "tar.close()"
   ]
  },
  {
   "cell_type": "code",
   "execution_count": null,
   "id": "1b857c64-f1e2-4d24-ad6e-f0147410cb4f",
   "metadata": {},
   "outputs": [],
   "source": []
  }
 ],
 "metadata": {
  "kernelspec": {
   "display_name": "Python 3 (ipykernel)",
   "language": "python",
   "name": "python3"
  },
  "language_info": {
   "codemirror_mode": {
    "name": "ipython",
    "version": 3
   },
   "file_extension": ".py",
   "mimetype": "text/x-python",
   "name": "python",
   "nbconvert_exporter": "python",
   "pygments_lexer": "ipython3",
   "version": "3.12.6"
  }
 },
 "nbformat": 4,
 "nbformat_minor": 5
}
